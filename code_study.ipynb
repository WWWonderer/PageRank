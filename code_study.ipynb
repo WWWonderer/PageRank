{
 "cells": [
  {
   "cell_type": "code",
   "execution_count": 2,
   "metadata": {},
   "outputs": [],
   "source": [
    "import pagerank\n",
    "from TextRank import textrank"
   ]
  },
  {
   "cell_type": "code",
   "execution_count": 3,
   "metadata": {},
   "outputs": [],
   "source": [
    "text = \"This module implements TextRank, an unsupervised keyword significance scoring algorithm.\"\n",
    "relevant_pos_tag = [\"NN\", \"ADJ\"]"
   ]
  },
  {
   "cell_type": "code",
   "execution_count": 4,
   "metadata": {},
   "outputs": [
    {
     "name": "stdout",
     "output_type": "stream",
     "text": [
      "['module', 'keyword', 'significance', 'algorithm']\n"
     ]
    }
   ],
   "source": [
    "words = textrank.__preprocess_document(text, relevant_pos_tag)\n",
    "print(words)"
   ]
  },
  {
   "cell_type": "code",
   "execution_count": 5,
   "metadata": {},
   "outputs": [],
   "source": [
    "import collections\n",
    "window_size = 2"
   ]
  },
  {
   "cell_type": "code",
   "execution_count": 6,
   "metadata": {},
   "outputs": [
    {
     "name": "stdout",
     "output_type": "stream",
     "text": [
      "defaultdict(<function <lambda> at 0x00000130D35EF920>, {'module': Counter({'keyword': 1.0, 'significance': 1.0}), 'keyword': Counter({'module': 1.0, 'significance': 1.0, 'algorithm': 1.0}), 'significance': Counter({'module': 1.0, 'keyword': 1.0, 'algorithm': 1.0}), 'algorithm': Counter({'keyword': 1.0, 'significance': 1.0})})\n"
     ]
    }
   ],
   "source": [
    "edge_weights = collections.defaultdict(lambda: collections.Counter())\n",
    "for index, word in enumerate(words):\n",
    "    for other_index in range(index - window_size, index + window_size + 1):\n",
    "        if other_index >= 0 and other_index < len(words) and other_index != index:\n",
    "            other_word = words[other_index]\n",
    "            edge_weights[word][other_word] += 1.0\n",
    "print(edge_weights)"
   ]
  },
  {
   "cell_type": "code",
   "execution_count": 7,
   "metadata": {},
   "outputs": [],
   "source": [
    "import pandas"
   ]
  },
  {
   "cell_type": "code",
   "execution_count": 8,
   "metadata": {},
   "outputs": [
    {
     "name": "stdout",
     "output_type": "stream",
     "text": [
      "              module  keyword  significance  algorithm\n",
      "keyword          1.0      NaN           1.0        1.0\n",
      "significance     1.0      1.0           NaN        1.0\n",
      "module           NaN      1.0           1.0        NaN\n",
      "algorithm        NaN      1.0           1.0        NaN\n"
     ]
    }
   ],
   "source": [
    "transition_weights = pandas.DataFrame(edge_weights)\n",
    "print(transition_weights)"
   ]
  },
  {
   "cell_type": "code",
   "execution_count": 9,
   "metadata": {},
   "outputs": [
    {
     "name": "stdout",
     "output_type": "stream",
     "text": [
      "{'significance', 'keyword', 'algorithm', 'module'}\n"
     ]
    }
   ],
   "source": [
    "nodes = pagerank.__extract_nodes(transition_weights)\n",
    "print(nodes)"
   ]
  },
  {
   "cell_type": "code",
   "execution_count": 10,
   "metadata": {},
   "outputs": [
    {
     "name": "stdout",
     "output_type": "stream",
     "text": [
      "              module  keyword  significance  algorithm\n",
      "keyword          1.0      0.0           1.0        1.0\n",
      "significance     1.0      1.0           0.0        1.0\n",
      "module           0.0      1.0           1.0        0.0\n",
      "algorithm        0.0      1.0           1.0        0.0\n"
     ]
    }
   ],
   "source": [
    "transition_weights = pagerank.__make_square(transition_weights, nodes, default=0.0)\n",
    "transition_weights = pagerank.__ensure_rows_positive(transition_weights)\n",
    "print(transition_weights)"
   ]
  },
  {
   "cell_type": "code",
   "execution_count": 11,
   "metadata": {},
   "outputs": [
    {
     "name": "stdout",
     "output_type": "stream",
     "text": [
      "                module   keyword  significance  algorithm\n",
      "keyword       0.333333  0.000000      0.333333   0.333333\n",
      "significance  0.333333  0.333333      0.000000   0.333333\n",
      "module        0.000000  0.500000      0.500000   0.000000\n",
      "algorithm     0.000000  0.500000      0.500000   0.000000\n"
     ]
    }
   ],
   "source": [
    "transition_weights = pagerank.__normalize_rows(transition_weights)\n",
    "print(transition_weights)"
   ]
  },
  {
   "cell_type": "markdown",
   "metadata": {},
   "source": [
    "random surfer moves some probabilities from connected nodes to other unconnected nodes"
   ]
  },
  {
   "cell_type": "code",
   "execution_count": 12,
   "metadata": {},
   "outputs": [
    {
     "name": "stdout",
     "output_type": "stream",
     "text": [
      "                module   keyword  significance  algorithm\n",
      "keyword       0.320833  0.037500      0.320833   0.320833\n",
      "significance  0.320833  0.320833      0.037500   0.320833\n",
      "module        0.037500  0.462500      0.462500   0.037500\n",
      "algorithm     0.037500  0.462500      0.462500   0.037500\n"
     ]
    }
   ],
   "source": [
    "transition_weights = pagerank.__integrate_random_surfer(nodes, transition_weights, rsp=0.15)\n",
    "print(transition_weights)"
   ]
  },
  {
   "cell_type": "code",
   "execution_count": 13,
   "metadata": {},
   "outputs": [
    {
     "name": "stdout",
     "output_type": "stream",
     "text": [
      "significance    0.25\n",
      "keyword         0.25\n",
      "algorithm       0.25\n",
      "module          0.25\n",
      "dtype: float64\n"
     ]
    }
   ],
   "source": [
    "state = pagerank.__start_state(nodes)\n",
    "print(state)"
   ]
  },
  {
   "cell_type": "code",
   "execution_count": 14,
   "metadata": {},
   "outputs": [
    {
     "name": "stdout",
     "output_type": "stream",
     "text": [
      "0.5\n"
     ]
    }
   ],
   "source": [
    "norm = pagerank.__euclidean_norm(state)\n",
    "print(norm)"
   ]
  },
  {
   "cell_type": "markdown",
   "metadata": {},
   "source": [
    "Formula of textRank from [paper](https://web.eecs.umich.edu/~mihalcea/papers/mihalcea.emnlp04.pdf):\n",
    "\n",
    "$WS(V_i) = (1 - d) + d * \\sum_{V_j \\in \\text{In}(V_i)} \\frac{w_{ji}}{\\sum_{V_k \\in \\text{Out}(V_j)}w_{jk}}WS(V_j)$\n",
    "\n",
    "It can be seen as a markov chain, and for an aperiodic irreducible markov chain, repeating the iterative process above is guaranteed to converge to a stable point.\n",
    "\n",
    "Some notes:\n",
    "* the role of $d$ is taken care of in the *__integrate_random_surfer* function\n",
    "* since we have normalized the edge weights with *__normalize_rows* function, $\\sum_{V_k \\in \\text{Out}(V_j)} w_{jk}$ sums to $1$. "
   ]
  },
  {
   "cell_type": "code",
   "execution_count": 15,
   "metadata": {},
   "outputs": [],
   "source": [
    "max_iterations = 1000\n",
    "epsilon = 0.00001"
   ]
  },
  {
   "cell_type": "code",
   "execution_count": 16,
   "metadata": {},
   "outputs": [],
   "source": [
    "# Power iteration:\n",
    "for iteration in range(max_iterations):\n",
    "    old_state = state.copy()\n",
    "    state = state.dot(transition_weights)\n",
    "    delta = state - old_state\n",
    "    if pagerank.__euclidean_norm(delta) < epsilon: \n",
    "        break"
   ]
  },
  {
   "cell_type": "code",
   "execution_count": 44,
   "metadata": {},
   "outputs": [
    {
     "name": "stdout",
     "output_type": "stream",
     "text": [
      "break at iteration:  15\n",
      "~~~~~~~~~~ 2nd last ~~~~~~~~~~\n",
      "module          0.204785\n",
      "keyword         0.295215\n",
      "significance    0.295215\n",
      "algorithm       0.204785\n",
      "dtype: float64\n",
      "~~~~~~~~~~ last ~~~~~~~~~~\n",
      "module          0.204788\n",
      "keyword         0.295212\n",
      "significance    0.295212\n",
      "algorithm       0.204788\n",
      "dtype: float64\n"
     ]
    }
   ],
   "source": [
    "print(\"break at iteration: \", iteration)\n",
    "print(\"~\" * 10 + \" 2nd last \" + \"~\" * 10)\n",
    "print(old_state)\n",
    "print(\"~\" * 10 + \" last \" + \"~\" * 10)\n",
    "print(state)"
   ]
  },
  {
   "cell_type": "markdown",
   "metadata": {},
   "source": [
    "state initialization only affects convergence speed, but not convergence itself"
   ]
  },
  {
   "cell_type": "code",
   "execution_count": 38,
   "metadata": {},
   "outputs": [],
   "source": [
    "import random"
   ]
  },
  {
   "cell_type": "code",
   "execution_count": 46,
   "metadata": {},
   "outputs": [
    {
     "name": "stdout",
     "output_type": "stream",
     "text": [
      "module          0.417535\n",
      "keyword         0.048822\n",
      "significance    0.220407\n",
      "algorithm       0.313236\n",
      "dtype: float64\n"
     ]
    }
   ],
   "source": [
    "initial_state_vals = [random.random() for i in range(4)]\n",
    "initial_state_vals = [val / sum(initial_state_vals) for val in initial_state_vals]\n",
    "state = pandas.Series(initial_state_vals, index=state.index)\n",
    "print(state)"
   ]
  },
  {
   "cell_type": "code",
   "execution_count": 47,
   "metadata": {},
   "outputs": [
    {
     "name": "stdout",
     "output_type": "stream",
     "text": [
      "break at iteration:  20\n",
      "~~~~~~~~~~ 2nd last ~~~~~~~~~~\n",
      "module          0.204789\n",
      "keyword         0.295211\n",
      "significance    0.295211\n",
      "algorithm       0.204789\n",
      "dtype: float64\n",
      "~~~~~~~~~~ last ~~~~~~~~~~\n",
      "module          0.204786\n",
      "keyword         0.295214\n",
      "significance    0.295214\n",
      "algorithm       0.204786\n",
      "dtype: float64\n"
     ]
    }
   ],
   "source": [
    "for iteration in range(max_iterations):\n",
    "    old_state = state.copy()\n",
    "    state = state.dot(transition_weights)\n",
    "    delta = state - old_state\n",
    "    if pagerank.__euclidean_norm(delta) < epsilon: \n",
    "        break\n",
    "\n",
    "print(\"break at iteration: \", iteration)\n",
    "print(\"~\" * 10 + \" 2nd last \" + \"~\" * 10)\n",
    "print(old_state)\n",
    "print(\"~\" * 10 + \" last \" + \"~\" * 10)\n",
    "print(state)"
   ]
  }
 ],
 "metadata": {
  "kernelspec": {
   "display_name": "venv",
   "language": "python",
   "name": "python3"
  },
  "language_info": {
   "codemirror_mode": {
    "name": "ipython",
    "version": 3
   },
   "file_extension": ".py",
   "mimetype": "text/x-python",
   "name": "python",
   "nbconvert_exporter": "python",
   "pygments_lexer": "ipython3",
   "version": "3.11.4"
  },
  "orig_nbformat": 4
 },
 "nbformat": 4,
 "nbformat_minor": 2
}
